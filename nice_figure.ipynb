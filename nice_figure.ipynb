{
 "cells": [
  {
   "cell_type": "code",
   "execution_count": null,
   "metadata": {},
   "outputs": [],
   "source": [
    "%matplotlib inline\n",
    "import numpy as np\n",
    "import matplotlib.pyplot as plt"
   ]
  },
  {
   "cell_type": "code",
   "execution_count": null,
   "metadata": {},
   "outputs": [],
   "source": [
    "x = np.arange(0, 5, 0.1) # creates x=(0..5) in 0.1 increments\n",
    "y = np.sin(x)           # y = sin(x)\n",
    "plt.plot(x,y)           # make a plot\n",
    "plt.xlabel('x')         # label x axis\n",
    "plt.ylabel('sin(x)')    # label y axis\n",
    "plt.show()              # show the plot on the screen"
   ]
  },
  {
   "cell_type": "code",
   "execution_count": null,
   "metadata": {},
   "outputs": [],
   "source": [
    "x = np.arange(0, 5, 0.1) # creates x=(0..5) in 0.1 increments\n",
    "y = np.sin(x)           # y = sin(x)\n",
    "plt.plot(x,y)           # make a plot\n",
    "plt.xlabel('x')         # label x axis\n",
    "plt.ylabel('sin(x)')    # label y axis\n",
    "plt.savefig('sinx.png', bbox_inches = \"tight\", dpi = 600)"
   ]
  },
  {
   "cell_type": "markdown",
   "metadata": {},
   "source": [
    "Then we define an array of angles and their sines and cosines using numpy. This time we will use linspace. "
   ]
  },
  {
   "cell_type": "code",
   "execution_count": null,
   "metadata": {},
   "outputs": [],
   "source": [
    "x = np.linspace(0, 2*np.pi, 100)\n",
    "print (x[-1], 2*np.pi)\n",
    "\n",
    "y = np.sin(x)\n",
    "z = np.cos(x)\n",
    "w = np.sin(4*x)\n",
    "v = np.cos(4*x)"
   ]
  },
  {
   "cell_type": "markdown",
   "metadata": {},
   "source": [
    "Now, let's make a two panel plot side-by-side."
   ]
  },
  {
   "cell_type": "code",
   "execution_count": null,
   "metadata": {},
   "outputs": [],
   "source": [
    "# call subplots to generate a multipanel figure. This means 1 row, 2 columns of figures\n",
    "f, axarr = plt.subplots(1, 2)\n",
    "\n",
    "# treat axarr as an array, from left to right\n",
    "\n",
    "# first panel\n",
    "axarr[0].plot(x, y)\n",
    "axarr[0].set_xlabel('x')\n",
    "axarr[0].set_ylabel('sin(x)')\n",
    "axarr[0].set_title(r'$\\sin(x)$') #latech using a math mode, two dollar signs make it a special plot, fancy sin(x)\n",
    "# second panel\n",
    "axarr[1].plot(x, z)\n",
    "axarr[1].set_xlabel('x')\n",
    "axarr[1].set_ylabel('cos(x)')\n",
    "axarr[1].set_title(r'$\\cos(x)$')"
   ]
  },
  {
   "cell_type": "raw",
   "metadata": {},
   "source": [
    "Here we can see that matplotlib has the panels too close together.\n",
    "We can adjust that using the subplot_adjust() functions. \n",
    "Enables use to move the panels further apart/closer together. "
   ]
  },
  {
   "cell_type": "code",
   "execution_count": null,
   "metadata": {},
   "outputs": [],
   "source": [
    "# call subplots to generate a multipanel figure. This means 1 row, 2 columns of figures\n",
    "f, axarr = plt.subplots(1, 2)\n",
    "\n",
    "# treat axarr as an array, from left to right\n",
    "\n",
    "# first panel\n",
    "axarr[0].plot(x, y)\n",
    "axarr[0].set_xlabel('x')\n",
    "axarr[0].set_ylabel('sin(x)')\n",
    "axarr[0].set_title(r'$\\sin(x)$') #latech using a math mode, two dollar signs make it a special plot, fancy sin(x)\n",
    "# second panel\n",
    "axarr[1].plot(x, z)\n",
    "axarr[1].set_xlabel('x')\n",
    "axarr[1].set_ylabel('cos(x)')\n",
    "axarr[1].set_title(r'$\\cos(x)$')\n",
    "\n",
    "#add more space between the figures\n",
    "f.subplots_adjust(wspace = 0.4) #using hspace will put space between them if they were stacked vertically "
   ]
  },
  {
   "cell_type": "markdown",
   "metadata": {},
   "source": [
    "Set_aspect can be used to change the axis ratio.\n",
    "The axis ratios are squished so we can fix that. "
   ]
  },
  {
   "cell_type": "code",
   "execution_count": null,
   "metadata": {},
   "outputs": [],
   "source": [
    "# call subplots to generate a multipanel figure. This means 1 row, 2 columns of figures\n",
    "f, axarr = plt.subplots(1, 2)\n",
    "\n",
    "# treat axarr as an array, from left to right\n",
    "\n",
    "# first panel\n",
    "axarr[0].plot(x, y)\n",
    "axarr[0].set_xlabel('x')\n",
    "axarr[0].set_ylabel('sin(x)')\n",
    "axarr[0].set_title(r'$\\sin(x)$') #latech using a math mode, two dollar signs make it a special plot, fancy sin(x)\n",
    "# second panel\n",
    "axarr[1].plot(x, z)\n",
    "axarr[1].set_xlabel('x')\n",
    "axarr[1].set_ylabel('cos(x)')\n",
    "axarr[1].set_title(r'$\\cos(x)$')\n",
    "\n",
    "#add more space between the figures\n",
    "f.subplots_adjust(wspace = 0.4) #using hspace will put space between them if they were stacked vertically \n",
    "\n",
    "#fix the axis ratio\n",
    "#here are two possible options\n",
    "axarr[0].set_aspect('equal')  #make the ratio of the tick units equal, a bit counter intuitive\n",
    "axarr[1].set_aspect(np.pi)    #make a square by setting the aspect to be the ratio of the tick unit range"
   ]
  },
  {
   "cell_type": "markdown",
   "metadata": {},
   "source": [
    "Legends are an easy way to notate a complicated figure.\n",
    "Let's keep the square figure, merge them into one, remove the titles and add legends. "
   ]
  },
  {
   "cell_type": "code",
   "execution_count": null,
   "metadata": {},
   "outputs": [],
   "source": [
    "#adjust the size of the figure\n",
    "fig = plt.figure(figsize=(6,6))\n",
    "\n",
    "\n",
    "plt.plot(x, y, label=r'$y =\\sin(x)$') #add a label to the line\n",
    "plt.plot(x, z, label=r'$y =\\cos(x)$') #add a label to the second line \n",
    "plt.plot(x, w, label=r'$y =\\sin(4x)$') #add a label to the third line \n",
    "plt.plot(x, v, label=r'$y =\\cos(4x)$') #add a label to the fourth line \n",
    "\n",
    "plt.xlabel(r'$x$')                    #note set_xlabel vs. xlabel \n",
    "plt.ylabel(r'$y(x)$')                 #note set_ylabel vs. ylabel\n",
    "plt.xlim ([0, 2*np.pi])               #note set_xlim vs. xlim\n",
    "plt.ylim ([-1.2,1.2])                 #note set_ylim vs. ylim\n",
    "plt.legend (loc=1, framealpha=0.95)   #add a legend with a semi-transparent fram in the upper RH corner\n",
    "\n",
    "#fix the axis ratio\n",
    "plt.gca().set_aspect(np.pi/1.2)      #use \"gca\" to get current axis()"
   ]
  }
 ],
 "metadata": {
  "kernelspec": {
   "display_name": "Python 3",
   "language": "python",
   "name": "python3"
  },
  "language_info": {
   "codemirror_mode": {
    "name": "ipython",
    "version": 3
   },
   "file_extension": ".py",
   "mimetype": "text/x-python",
   "name": "python",
   "nbconvert_exporter": "python",
   "pygments_lexer": "ipython3",
   "version": "3.6.5"
  }
 },
 "nbformat": 4,
 "nbformat_minor": 2
}
